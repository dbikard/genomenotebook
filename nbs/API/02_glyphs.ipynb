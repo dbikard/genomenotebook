{
 "cells": [
  {
   "attachments": {},
   "cell_type": "markdown",
   "metadata": {},
   "source": [
    "# glyphs\n",
    "\n",
    "> Contains the Glyph class used to define the different type of glyphs that can be used to represent features, as well the basic plotting functions for GenomeBrowser"
   ]
  },
  {
   "cell_type": "code",
   "execution_count": null,
   "metadata": {},
   "outputs": [
    {
     "data": {
      "application/javascript": "(function(root) {\n  function now() {\n    return new Date();\n  }\n\n  const force = true;\n\n  if (typeof root._bokeh_onload_callbacks === \"undefined\" || force === true) {\n    root._bokeh_onload_callbacks = [];\n    root._bokeh_is_loading = undefined;\n  }\n\nconst JS_MIME_TYPE = 'application/javascript';\n  const HTML_MIME_TYPE = 'text/html';\n  const EXEC_MIME_TYPE = 'application/vnd.bokehjs_exec.v0+json';\n  const CLASS_NAME = 'output_bokeh rendered_html';\n\n  /**\n   * Render data to the DOM node\n   */\n  function render(props, node) {\n    const script = document.createElement(\"script\");\n    node.appendChild(script);\n  }\n\n  /**\n   * Handle when an output is cleared or removed\n   */\n  function handleClearOutput(event, handle) {\n    const cell = handle.cell;\n\n    const id = cell.output_area._bokeh_element_id;\n    const server_id = cell.output_area._bokeh_server_id;\n    // Clean up Bokeh references\n    if (id != null && id in Bokeh.index) {\n      Bokeh.index[id].model.document.clear();\n      delete Bokeh.index[id];\n    }\n\n    if (server_id !== undefined) {\n      // Clean up Bokeh references\n      const cmd_clean = \"from bokeh.io.state import curstate; print(curstate().uuid_to_server['\" + server_id + \"'].get_sessions()[0].document.roots[0]._id)\";\n      cell.notebook.kernel.execute(cmd_clean, {\n        iopub: {\n          output: function(msg) {\n            const id = msg.content.text.trim();\n            if (id in Bokeh.index) {\n              Bokeh.index[id].model.document.clear();\n              delete Bokeh.index[id];\n            }\n          }\n        }\n      });\n      // Destroy server and session\n      const cmd_destroy = \"import bokeh.io.notebook as ion; ion.destroy_server('\" + server_id + \"')\";\n      cell.notebook.kernel.execute(cmd_destroy);\n    }\n  }\n\n  /**\n   * Handle when a new output is added\n   */\n  function handleAddOutput(event, handle) {\n    const output_area = handle.output_area;\n    const output = handle.output;\n\n    // limit handleAddOutput to display_data with EXEC_MIME_TYPE content only\n    if ((output.output_type != \"display_data\") || (!Object.prototype.hasOwnProperty.call(output.data, EXEC_MIME_TYPE))) {\n      return\n    }\n\n    const toinsert = output_area.element.find(\".\" + CLASS_NAME.split(' ')[0]);\n\n    if (output.metadata[EXEC_MIME_TYPE][\"id\"] !== undefined) {\n      toinsert[toinsert.length - 1].firstChild.textContent = output.data[JS_MIME_TYPE];\n      // store reference to embed id on output_area\n      output_area._bokeh_element_id = output.metadata[EXEC_MIME_TYPE][\"id\"];\n    }\n    if (output.metadata[EXEC_MIME_TYPE][\"server_id\"] !== undefined) {\n      const bk_div = document.createElement(\"div\");\n      bk_div.innerHTML = output.data[HTML_MIME_TYPE];\n      const script_attrs = bk_div.children[0].attributes;\n      for (let i = 0; i < script_attrs.length; i++) {\n        toinsert[toinsert.length - 1].firstChild.setAttribute(script_attrs[i].name, script_attrs[i].value);\n        toinsert[toinsert.length - 1].firstChild.textContent = bk_div.children[0].textContent\n      }\n      // store reference to server id on output_area\n      output_area._bokeh_server_id = output.metadata[EXEC_MIME_TYPE][\"server_id\"];\n    }\n  }\n\n  function register_renderer(events, OutputArea) {\n\n    function append_mime(data, metadata, element) {\n      // create a DOM node to render to\n      const toinsert = this.create_output_subarea(\n        metadata,\n        CLASS_NAME,\n        EXEC_MIME_TYPE\n      );\n      this.keyboard_manager.register_events(toinsert);\n      // Render to node\n      const props = {data: data, metadata: metadata[EXEC_MIME_TYPE]};\n      render(props, toinsert[toinsert.length - 1]);\n      element.append(toinsert);\n      return toinsert\n    }\n\n    /* Handle when an output is cleared or removed */\n    events.on('clear_output.CodeCell', handleClearOutput);\n    events.on('delete.Cell', handleClearOutput);\n\n    /* Handle when a new output is added */\n    events.on('output_added.OutputArea', handleAddOutput);\n\n    /**\n     * Register the mime type and append_mime function with output_area\n     */\n    OutputArea.prototype.register_mime_type(EXEC_MIME_TYPE, append_mime, {\n      /* Is output safe? */\n      safe: true,\n      /* Index of renderer in `output_area.display_order` */\n      index: 0\n    });\n  }\n\n  // register the mime type if in Jupyter Notebook environment and previously unregistered\n  if (root.Jupyter !== undefined) {\n    const events = require('base/js/events');\n    const OutputArea = require('notebook/js/outputarea').OutputArea;\n\n    if (OutputArea.prototype.mime_types().indexOf(EXEC_MIME_TYPE) == -1) {\n      register_renderer(events, OutputArea);\n    }\n  }\n  if (typeof (root._bokeh_timeout) === \"undefined\" || force === true) {\n    root._bokeh_timeout = Date.now() + 5000;\n    root._bokeh_failed_load = false;\n  }\n\n  const NB_LOAD_WARNING = {'data': {'text/html':\n     \"<div style='background-color: #fdd'>\\n\"+\n     \"<p>\\n\"+\n     \"BokehJS does not appear to have successfully loaded. If loading BokehJS from CDN, this \\n\"+\n     \"may be due to a slow or bad network connection. Possible fixes:\\n\"+\n     \"</p>\\n\"+\n     \"<ul>\\n\"+\n     \"<li>re-rerun `output_notebook()` to attempt to load from CDN again, or</li>\\n\"+\n     \"<li>use INLINE resources instead, as so:</li>\\n\"+\n     \"</ul>\\n\"+\n     \"<code>\\n\"+\n     \"from bokeh.resources import INLINE\\n\"+\n     \"output_notebook(resources=INLINE)\\n\"+\n     \"</code>\\n\"+\n     \"</div>\"}};\n\n  function display_loaded() {\n    const el = document.getElementById(null);\n    if (el != null) {\n      el.textContent = \"BokehJS is loading...\";\n    }\n    if (root.Bokeh !== undefined) {\n      if (el != null) {\n        el.textContent = \"BokehJS \" + root.Bokeh.version + \" successfully loaded.\";\n      }\n    } else if (Date.now() < root._bokeh_timeout) {\n      setTimeout(display_loaded, 100)\n    }\n  }\n\n  function run_callbacks() {\n    try {\n      root._bokeh_onload_callbacks.forEach(function(callback) {\n        if (callback != null)\n          callback();\n      });\n    } finally {\n      delete root._bokeh_onload_callbacks\n    }\n    console.debug(\"Bokeh: all callbacks have finished\");\n  }\n\n  function load_libs(css_urls, js_urls, callback) {\n    if (css_urls == null) css_urls = [];\n    if (js_urls == null) js_urls = [];\n\n    root._bokeh_onload_callbacks.push(callback);\n    if (root._bokeh_is_loading > 0) {\n      console.debug(\"Bokeh: BokehJS is being loaded, scheduling callback at\", now());\n      return null;\n    }\n    if (js_urls == null || js_urls.length === 0) {\n      run_callbacks();\n      return null;\n    }\n    console.debug(\"Bokeh: BokehJS not loaded, scheduling load and callback at\", now());\n    root._bokeh_is_loading = css_urls.length + js_urls.length;\n\n    function on_load() {\n      root._bokeh_is_loading--;\n      if (root._bokeh_is_loading === 0) {\n        console.debug(\"Bokeh: all BokehJS libraries/stylesheets loaded\");\n        run_callbacks()\n      }\n    }\n\n    function on_error(url) {\n      console.error(\"failed to load \" + url);\n    }\n\n    for (let i = 0; i < css_urls.length; i++) {\n      const url = css_urls[i];\n      const element = document.createElement(\"link\");\n      element.onload = on_load;\n      element.onerror = on_error.bind(null, url);\n      element.rel = \"stylesheet\";\n      element.type = \"text/css\";\n      element.href = url;\n      console.debug(\"Bokeh: injecting link tag for BokehJS stylesheet: \", url);\n      document.body.appendChild(element);\n    }\n\n    for (let i = 0; i < js_urls.length; i++) {\n      const url = js_urls[i];\n      const element = document.createElement('script');\n      element.onload = on_load;\n      element.onerror = on_error.bind(null, url);\n      element.async = false;\n      element.src = url;\n      console.debug(\"Bokeh: injecting script tag for BokehJS library: \", url);\n      document.head.appendChild(element);\n    }\n  };\n\n  function inject_raw_css(css) {\n    const element = document.createElement(\"style\");\n    element.appendChild(document.createTextNode(css));\n    document.body.appendChild(element);\n  }\n\n  const js_urls = [\"https://cdn.bokeh.org/bokeh/release/bokeh-3.1.1.min.js\", \"https://cdn.bokeh.org/bokeh/release/bokeh-gl-3.1.1.min.js\", \"https://cdn.bokeh.org/bokeh/release/bokeh-widgets-3.1.1.min.js\", \"https://cdn.bokeh.org/bokeh/release/bokeh-tables-3.1.1.min.js\", \"https://cdn.bokeh.org/bokeh/release/bokeh-mathjax-3.1.1.min.js\"];\n  const css_urls = [];\n\n  const inline_js = [    function(Bokeh) {\n      Bokeh.set_log_level(\"info\");\n    },\nfunction(Bokeh) {\n    }\n  ];\n\n  function run_inline_js() {\n    if (root.Bokeh !== undefined || force === true) {\n          for (let i = 0; i < inline_js.length; i++) {\n      inline_js[i].call(root, root.Bokeh);\n    }\n} else if (Date.now() < root._bokeh_timeout) {\n      setTimeout(run_inline_js, 100);\n    } else if (!root._bokeh_failed_load) {\n      console.log(\"Bokeh: BokehJS failed to load within specified timeout.\");\n      root._bokeh_failed_load = true;\n    } else if (force !== true) {\n      const cell = $(document.getElementById(null)).parents('.cell').data().cell;\n      cell.output_area.append_execute_result(NB_LOAD_WARNING)\n    }\n  }\n\n  if (root._bokeh_is_loading === 0) {\n    console.debug(\"Bokeh: BokehJS loaded, going straight to plotting\");\n    run_inline_js();\n  } else {\n    load_libs(css_urls, js_urls, function() {\n      console.debug(\"Bokeh: BokehJS plotting callback run at\", now());\n      run_inline_js();\n    });\n  }\n}(window));",
      "application/vnd.bokehjs_load.v0+json": ""
     },
     "metadata": {},
     "output_type": "display_data"
    },
    {
     "name": "stdout",
     "output_type": "stream",
     "text": [
      "The autoreload extension is already loaded. To reload it, use:\n",
      "  %reload_ext autoreload\n"
     ]
    }
   ],
   "source": [
    "#| hide\n",
    "%load_ext autoreload\n",
    "%autoreload 2"
   ]
  },
  {
   "cell_type": "code",
   "execution_count": null,
   "metadata": {},
   "outputs": [],
   "source": [
    "#| default_exp glyphs"
   ]
  },
  {
   "cell_type": "code",
   "execution_count": null,
   "metadata": {},
   "outputs": [],
   "source": [
    "#| hide\n",
    "from nbdev.showdoc import *"
   ]
  },
  {
   "cell_type": "code",
   "execution_count": null,
   "metadata": {},
   "outputs": [
    {
     "data": {
      "application/javascript": "(function(root) {\n  function now() {\n    return new Date();\n  }\n\n  const force = true;\n\n  if (typeof root._bokeh_onload_callbacks === \"undefined\" || force === true) {\n    root._bokeh_onload_callbacks = [];\n    root._bokeh_is_loading = undefined;\n  }\n\nconst JS_MIME_TYPE = 'application/javascript';\n  const HTML_MIME_TYPE = 'text/html';\n  const EXEC_MIME_TYPE = 'application/vnd.bokehjs_exec.v0+json';\n  const CLASS_NAME = 'output_bokeh rendered_html';\n\n  /**\n   * Render data to the DOM node\n   */\n  function render(props, node) {\n    const script = document.createElement(\"script\");\n    node.appendChild(script);\n  }\n\n  /**\n   * Handle when an output is cleared or removed\n   */\n  function handleClearOutput(event, handle) {\n    const cell = handle.cell;\n\n    const id = cell.output_area._bokeh_element_id;\n    const server_id = cell.output_area._bokeh_server_id;\n    // Clean up Bokeh references\n    if (id != null && id in Bokeh.index) {\n      Bokeh.index[id].model.document.clear();\n      delete Bokeh.index[id];\n    }\n\n    if (server_id !== undefined) {\n      // Clean up Bokeh references\n      const cmd_clean = \"from bokeh.io.state import curstate; print(curstate().uuid_to_server['\" + server_id + \"'].get_sessions()[0].document.roots[0]._id)\";\n      cell.notebook.kernel.execute(cmd_clean, {\n        iopub: {\n          output: function(msg) {\n            const id = msg.content.text.trim();\n            if (id in Bokeh.index) {\n              Bokeh.index[id].model.document.clear();\n              delete Bokeh.index[id];\n            }\n          }\n        }\n      });\n      // Destroy server and session\n      const cmd_destroy = \"import bokeh.io.notebook as ion; ion.destroy_server('\" + server_id + \"')\";\n      cell.notebook.kernel.execute(cmd_destroy);\n    }\n  }\n\n  /**\n   * Handle when a new output is added\n   */\n  function handleAddOutput(event, handle) {\n    const output_area = handle.output_area;\n    const output = handle.output;\n\n    // limit handleAddOutput to display_data with EXEC_MIME_TYPE content only\n    if ((output.output_type != \"display_data\") || (!Object.prototype.hasOwnProperty.call(output.data, EXEC_MIME_TYPE))) {\n      return\n    }\n\n    const toinsert = output_area.element.find(\".\" + CLASS_NAME.split(' ')[0]);\n\n    if (output.metadata[EXEC_MIME_TYPE][\"id\"] !== undefined) {\n      toinsert[toinsert.length - 1].firstChild.textContent = output.data[JS_MIME_TYPE];\n      // store reference to embed id on output_area\n      output_area._bokeh_element_id = output.metadata[EXEC_MIME_TYPE][\"id\"];\n    }\n    if (output.metadata[EXEC_MIME_TYPE][\"server_id\"] !== undefined) {\n      const bk_div = document.createElement(\"div\");\n      bk_div.innerHTML = output.data[HTML_MIME_TYPE];\n      const script_attrs = bk_div.children[0].attributes;\n      for (let i = 0; i < script_attrs.length; i++) {\n        toinsert[toinsert.length - 1].firstChild.setAttribute(script_attrs[i].name, script_attrs[i].value);\n        toinsert[toinsert.length - 1].firstChild.textContent = bk_div.children[0].textContent\n      }\n      // store reference to server id on output_area\n      output_area._bokeh_server_id = output.metadata[EXEC_MIME_TYPE][\"server_id\"];\n    }\n  }\n\n  function register_renderer(events, OutputArea) {\n\n    function append_mime(data, metadata, element) {\n      // create a DOM node to render to\n      const toinsert = this.create_output_subarea(\n        metadata,\n        CLASS_NAME,\n        EXEC_MIME_TYPE\n      );\n      this.keyboard_manager.register_events(toinsert);\n      // Render to node\n      const props = {data: data, metadata: metadata[EXEC_MIME_TYPE]};\n      render(props, toinsert[toinsert.length - 1]);\n      element.append(toinsert);\n      return toinsert\n    }\n\n    /* Handle when an output is cleared or removed */\n    events.on('clear_output.CodeCell', handleClearOutput);\n    events.on('delete.Cell', handleClearOutput);\n\n    /* Handle when a new output is added */\n    events.on('output_added.OutputArea', handleAddOutput);\n\n    /**\n     * Register the mime type and append_mime function with output_area\n     */\n    OutputArea.prototype.register_mime_type(EXEC_MIME_TYPE, append_mime, {\n      /* Is output safe? */\n      safe: true,\n      /* Index of renderer in `output_area.display_order` */\n      index: 0\n    });\n  }\n\n  // register the mime type if in Jupyter Notebook environment and previously unregistered\n  if (root.Jupyter !== undefined) {\n    const events = require('base/js/events');\n    const OutputArea = require('notebook/js/outputarea').OutputArea;\n\n    if (OutputArea.prototype.mime_types().indexOf(EXEC_MIME_TYPE) == -1) {\n      register_renderer(events, OutputArea);\n    }\n  }\n  if (typeof (root._bokeh_timeout) === \"undefined\" || force === true) {\n    root._bokeh_timeout = Date.now() + 5000;\n    root._bokeh_failed_load = false;\n  }\n\n  const NB_LOAD_WARNING = {'data': {'text/html':\n     \"<div style='background-color: #fdd'>\\n\"+\n     \"<p>\\n\"+\n     \"BokehJS does not appear to have successfully loaded. If loading BokehJS from CDN, this \\n\"+\n     \"may be due to a slow or bad network connection. Possible fixes:\\n\"+\n     \"</p>\\n\"+\n     \"<ul>\\n\"+\n     \"<li>re-rerun `output_notebook()` to attempt to load from CDN again, or</li>\\n\"+\n     \"<li>use INLINE resources instead, as so:</li>\\n\"+\n     \"</ul>\\n\"+\n     \"<code>\\n\"+\n     \"from bokeh.resources import INLINE\\n\"+\n     \"output_notebook(resources=INLINE)\\n\"+\n     \"</code>\\n\"+\n     \"</div>\"}};\n\n  function display_loaded() {\n    const el = document.getElementById(null);\n    if (el != null) {\n      el.textContent = \"BokehJS is loading...\";\n    }\n    if (root.Bokeh !== undefined) {\n      if (el != null) {\n        el.textContent = \"BokehJS \" + root.Bokeh.version + \" successfully loaded.\";\n      }\n    } else if (Date.now() < root._bokeh_timeout) {\n      setTimeout(display_loaded, 100)\n    }\n  }\n\n  function run_callbacks() {\n    try {\n      root._bokeh_onload_callbacks.forEach(function(callback) {\n        if (callback != null)\n          callback();\n      });\n    } finally {\n      delete root._bokeh_onload_callbacks\n    }\n    console.debug(\"Bokeh: all callbacks have finished\");\n  }\n\n  function load_libs(css_urls, js_urls, callback) {\n    if (css_urls == null) css_urls = [];\n    if (js_urls == null) js_urls = [];\n\n    root._bokeh_onload_callbacks.push(callback);\n    if (root._bokeh_is_loading > 0) {\n      console.debug(\"Bokeh: BokehJS is being loaded, scheduling callback at\", now());\n      return null;\n    }\n    if (js_urls == null || js_urls.length === 0) {\n      run_callbacks();\n      return null;\n    }\n    console.debug(\"Bokeh: BokehJS not loaded, scheduling load and callback at\", now());\n    root._bokeh_is_loading = css_urls.length + js_urls.length;\n\n    function on_load() {\n      root._bokeh_is_loading--;\n      if (root._bokeh_is_loading === 0) {\n        console.debug(\"Bokeh: all BokehJS libraries/stylesheets loaded\");\n        run_callbacks()\n      }\n    }\n\n    function on_error(url) {\n      console.error(\"failed to load \" + url);\n    }\n\n    for (let i = 0; i < css_urls.length; i++) {\n      const url = css_urls[i];\n      const element = document.createElement(\"link\");\n      element.onload = on_load;\n      element.onerror = on_error.bind(null, url);\n      element.rel = \"stylesheet\";\n      element.type = \"text/css\";\n      element.href = url;\n      console.debug(\"Bokeh: injecting link tag for BokehJS stylesheet: \", url);\n      document.body.appendChild(element);\n    }\n\n    for (let i = 0; i < js_urls.length; i++) {\n      const url = js_urls[i];\n      const element = document.createElement('script');\n      element.onload = on_load;\n      element.onerror = on_error.bind(null, url);\n      element.async = false;\n      element.src = url;\n      console.debug(\"Bokeh: injecting script tag for BokehJS library: \", url);\n      document.head.appendChild(element);\n    }\n  };\n\n  function inject_raw_css(css) {\n    const element = document.createElement(\"style\");\n    element.appendChild(document.createTextNode(css));\n    document.body.appendChild(element);\n  }\n\n  const js_urls = [\"https://cdn.bokeh.org/bokeh/release/bokeh-3.1.1.min.js\", \"https://cdn.bokeh.org/bokeh/release/bokeh-gl-3.1.1.min.js\", \"https://cdn.bokeh.org/bokeh/release/bokeh-widgets-3.1.1.min.js\", \"https://cdn.bokeh.org/bokeh/release/bokeh-tables-3.1.1.min.js\", \"https://cdn.bokeh.org/bokeh/release/bokeh-mathjax-3.1.1.min.js\"];\n  const css_urls = [];\n\n  const inline_js = [    function(Bokeh) {\n      Bokeh.set_log_level(\"info\");\n    },\nfunction(Bokeh) {\n    }\n  ];\n\n  function run_inline_js() {\n    if (root.Bokeh !== undefined || force === true) {\n          for (let i = 0; i < inline_js.length; i++) {\n      inline_js[i].call(root, root.Bokeh);\n    }\n} else if (Date.now() < root._bokeh_timeout) {\n      setTimeout(run_inline_js, 100);\n    } else if (!root._bokeh_failed_load) {\n      console.log(\"Bokeh: BokehJS failed to load within specified timeout.\");\n      root._bokeh_failed_load = true;\n    } else if (force !== true) {\n      const cell = $(document.getElementById(null)).parents('.cell').data().cell;\n      cell.output_area.append_execute_result(NB_LOAD_WARNING)\n    }\n  }\n\n  if (root._bokeh_is_loading === 0) {\n    console.debug(\"Bokeh: BokehJS loaded, going straight to plotting\");\n    run_inline_js();\n  } else {\n    load_libs(css_urls, js_urls, function() {\n      console.debug(\"Bokeh: BokehJS plotting callback run at\", now());\n      run_inline_js();\n    });\n  }\n}(window));",
      "application/vnd.bokehjs_load.v0+json": ""
     },
     "metadata": {},
     "output_type": "display_data"
    }
   ],
   "source": [
    "from bokeh.io import output_notebook #|hide_line\n",
    "output_notebook(hide_banner=True) #|hide_line"
   ]
  },
  {
   "cell_type": "code",
   "execution_count": null,
   "metadata": {},
   "outputs": [],
   "source": [
    "#| export\n",
    "import numpy as np\n",
    "import pandas as pd\n",
    "import io\n",
    "\n",
    "from bokeh.plotting import figure\n",
    "from bokeh.models.tools import BoxZoomTool\n",
    "from bokeh.models import HoverTool, NumeralTickFormatter, LabelSet\n",
    "from bokeh.models.glyphs import Patches\n",
    "from bokeh.models import (\n",
    "    CustomJS,\n",
    "    Range1d,\n",
    "    ColumnDataSource,\n",
    ")\n",
    "from genomenotebook.data import get_example_data_dir\n",
    "from genomenotebook.utils import (\n",
    "    parse_gff,\n",
    "    default_types,\n",
    "    default_attributes,\n",
    ")\n",
    "\n",
    "from collections import defaultdict\n",
    "import os\n",
    "from typing import *\n",
    "import copy"
   ]
  },
  {
   "cell_type": "code",
   "execution_count": null,
   "metadata": {},
   "outputs": [],
   "source": [
    "#| export\n",
    "from collections import defaultdict"
   ]
  },
  {
   "cell_type": "code",
   "execution_count": null,
   "metadata": {},
   "outputs": [],
   "source": [
    "#| export\n",
    "#| hide\n",
    "Y_RANGE = (0, 1)\n",
    "def get_y_range() -> tuple:\n",
    "    \"\"\"Accessor that returns the Y range for the genome browser plot\n",
    "    \"\"\"\n",
    "    return Y_RANGE"
   ]
  },
  {
   "cell_type": "code",
   "execution_count": null,
   "metadata": {},
   "outputs": [],
   "source": [
    "#| export\n",
    "#| hide\n",
    "def arrow_coordinates(feature, \n",
    "                      height: float = 1, #relative height of the feature (between 0 and 1)\n",
    "                      feature_height: float = 0.15, #fraction of the annotation track occupied by the feature glyphs\n",
    "                      ):\n",
    "    \n",
    "    feature_size = feature.right - feature.left\n",
    "    \n",
    "    if feature.strand==\"+\":\n",
    "        arrow_base = feature.end - np.minimum(feature_size, 100)\n",
    "    else:\n",
    "        arrow_base = feature.end + np.minimum(feature_size, 100)\n",
    "    \n",
    "    xs=(feature.start,\n",
    "        feature.start,\n",
    "        arrow_base,\n",
    "        feature.end,\n",
    "        arrow_base\n",
    "       )\n",
    "    \n",
    "    offset=feature_height*(1-height)/2\n",
    "    y_min = 0.05+offset\n",
    "    y_max = 0.05+feature_height-offset\n",
    "    ys = (y_min, y_max, y_max, (y_max + y_min) / 2, y_min)\n",
    "    return xs, ys\n"
   ]
  },
  {
   "cell_type": "code",
   "execution_count": null,
   "metadata": {},
   "outputs": [],
   "source": [
    "#| export\n",
    "#| hide\n",
    "def box_coordinates(feature, \n",
    "                    height: float = 1, #relative height of the feature (between 0 and 1)\n",
    "                    feature_height: float = 0.15, #fraction of the annotation track occupied by the feature glyphs\n",
    "                    ):\n",
    "    xs=(feature.left, feature.left,\n",
    "        feature.right, feature.right)\n",
    "    \n",
    "    offset=feature_height*(1-height)/2\n",
    "    y_min = 0.05+offset\n",
    "    y_max = 0.05+feature_height-offset\n",
    "    ys = (y_min, y_max, y_max, y_min)\n",
    "    return xs, ys"
   ]
  },
  {
   "cell_type": "code",
   "execution_count": null,
   "metadata": {},
   "outputs": [],
   "source": [
    "#| export\n",
    "class Glyph:\n",
    "    def __init__(self,\n",
    "                 glyph_type: str =\"arrow\", # type of the Glyph (arrow or box)\n",
    "                 colors: tuple = (\"purple\",\"orange\"), # can be a single color or a tuple of two colors, one for each strand\n",
    "                 alpha: float = 0.8, #transparency\n",
    "                 show_name: bool = True, #\n",
    "                 height: float = 1,  #height of the feature relative to other features (between 0 and 1)\n",
    "                 ):\n",
    "        \"\"\"A class used to define the different types of glyphs shown for different feature types.\"\"\"\n",
    "        self.glyph_type=glyph_type\n",
    "        if type(colors)==str:\n",
    "            self.colors=(colors,)\n",
    "        else:\n",
    "            self.colors=colors\n",
    "\n",
    "        assert alpha>=0 and alpha <=1\n",
    "        self.alpha=alpha\n",
    "        self.show_name=show_name\n",
    "        assert height>0 and height<=1\n",
    "        self.height=height\n",
    "\n",
    "        if glyph_type == \"box\":\n",
    "            self.coordinates = box_coordinates\n",
    "        else:\n",
    "            self.coordinates = arrow_coordinates\n",
    "\n",
    "    def get_patch(self,\n",
    "                  feature, # row of a pandas DataFrame extracted from a GFF file\n",
    "                  feature_height: float = 0.15, #fraction of the annotation track height occupied by the features\n",
    "                  ):\n",
    "    \n",
    "        if len(self.colors)>1:\n",
    "            color_dic={\"+\":self.colors[0],\n",
    "                    \"-\":self.colors[1]}\n",
    "        else:\n",
    "            color_dic=defaultdict(lambda: self.colors[0])\n",
    "\n",
    "        return self.coordinates(feature, self.height, feature_height), color_dic[feature.strand], self.alpha\n",
    "    \n",
    "    def copy(self):\n",
    "        return copy.deepcopy(self)\n",
    "    \n",
    "    def __repr__(self) -> str:\n",
    "        attributes = [\"glyph_type\",\"colors\",\"height\",\"alpha\",\"show_name\"]\n",
    "        r=f\"Glyph object with attributes:\\n\"\n",
    "        for attr in attributes:\n",
    "            r+=f\"\\t{attr}: {getattr(self, attr)}\\n\"\n",
    "        return r"
   ]
  },
  {
   "cell_type": "code",
   "execution_count": null,
   "metadata": {},
   "outputs": [],
   "source": [
    "#| export\n",
    "def get_default_glyphs():\n",
    "    \"\"\"\"Returns a dictionnary with:\n",
    "            - keys: feature types\n",
    "            - values: a Glyph object\n",
    "    \"\"\"\n",
    "    basic_arrow=Glyph(glyph_type=\"arrow\",colors=(\"purple\",\"orange\"),alpha=0.8,show_name=True)\n",
    "    basic_box=Glyph(glyph_type=\"box\",colors=(\"grey\",),alpha=1,height=0.8,show_name=False)\n",
    "    \n",
    "    default_glyphs=defaultdict(lambda: basic_arrow.copy()) #the default glyph will be the same as for CDS etc.\n",
    "    default_glyphs.update(dict([(f,basic_arrow.copy()) for f in [\"CDS\", \"ncRNA\", \"rRNA\", \"tRNA\"]]))\n",
    "    default_glyphs['repeat_region']=basic_box.copy()\n",
    "    default_glyphs['exon']=basic_box.copy()\n",
    "    return default_glyphs\n",
    "\n",
    "default_glyphs=get_default_glyphs()"
   ]
  },
  {
   "cell_type": "code",
   "execution_count": null,
   "metadata": {},
   "outputs": [
    {
     "data": {
      "text/plain": [
       "Glyph object with attributes:\n",
       "\tglyph_type: arrow\n",
       "\tcolors: ('purple', 'orange')\n",
       "\theight: 1\n",
       "\talpha: 0.8\n",
       "\tshow_name: True"
      ]
     },
     "execution_count": null,
     "metadata": {},
     "output_type": "execute_result"
    }
   ],
   "source": [
    "default_glyphs['CDS']"
   ]
  },
  {
   "cell_type": "code",
   "execution_count": null,
   "metadata": {},
   "outputs": [],
   "source": [
    "#| export\n",
    "def get_patch_coordinates(feature, glyphs_dict, feature_height=0.15):\n",
    "    glyph=glyphs_dict[feature.type]\n",
    "    return glyph.get_patch(feature, feature_height=feature_height)"
   ]
  },
  {
   "cell_type": "code",
   "execution_count": null,
   "metadata": {},
   "outputs": [
    {
     "data": {
      "text/plain": [
       "0    (((190, 190, 190, 255, 190), (0.05, 0.2, 0.2, ...\n",
       "1    (((337, 337, 2699, 2799, 2699), (0.05, 0.2, 0....\n",
       "2    (((2801, 2801, 3633, 3733, 3633), (0.05, 0.2, ...\n",
       "3    (((3734, 3734, 4920, 5020, 4920), (0.05, 0.2, ...\n",
       "4    (((5234, 5234, 5430, 5530, 5430), (0.05, 0.2, ...\n",
       "dtype: object"
      ]
     },
     "execution_count": null,
     "metadata": {},
     "output_type": "execute_result"
    }
   ],
   "source": [
    "data_path = get_example_data_dir()\n",
    "gff_path = os.path.join(data_path, \"MG1655_U00096.gff3\")\n",
    "features=parse_gff(gff_path, \n",
    "                   feature_types=default_types, \n",
    "                   seq_id=\"U00096.3\")\n",
    "\n",
    "features.head().apply(get_patch_coordinates,glyphs_dict=default_glyphs, axis=1)"
   ]
  },
  {
   "cell_type": "code",
   "execution_count": null,
   "metadata": {},
   "outputs": [],
   "source": [
    "#| export\n",
    "def get_feature_name(feature,\n",
    "                     glyphs_dict,\n",
    "                     name=\"gene\",\n",
    "                     attributes: list = default_attributes,\n",
    "                    ) -> str:\n",
    "    \"\"\"Gets the name of the feature to be displayed. If the Glyph for the feature type has the attribute show_name=False then an empty string is returned.\n",
    "    If name is not an attribute of the feature, then the first attribute in the attributes list is used.\n",
    "    \"\"\"\n",
    "    if glyphs_dict[feature.type].show_name:\n",
    "        if hasattr(feature,name):\n",
    "            if feature[name]:\n",
    "                return feature[name]\n",
    "        \n",
    "        for attr in attributes:\n",
    "            if feature[attr]:\n",
    "                return feature[attr]\n",
    "        \n",
    "        return feature[9]\n",
    "    else:\n",
    "        return \"\""
   ]
  },
  {
   "cell_type": "code",
   "execution_count": null,
   "metadata": {},
   "outputs": [
    {
     "data": {
      "text/plain": [
       "0    thrL\n",
       "1    thrA\n",
       "2    thrB\n",
       "3    thrC\n",
       "4    yaaX\n",
       "dtype: object"
      ]
     },
     "execution_count": null,
     "metadata": {},
     "output_type": "execute_result"
    }
   ],
   "source": [
    "features.head().apply(get_feature_name,name=\"gene\",glyphs_dict=default_glyphs, axis=1)"
   ]
  },
  {
   "cell_type": "code",
   "execution_count": null,
   "metadata": {},
   "outputs": [],
   "source": [
    "#| export\n",
    "def get_feature_patches(features: pd.DataFrame, #DataFrame of the features \n",
    "                        left: int, #left limit\n",
    "                        right: int, #right limit\n",
    "                        glyphs_dict: dict, #a dictionnary of glyphs to use for each feature type\n",
    "                        attributes: list = default_attributes, #list of attributes to display when hovering\n",
    "                        name: str = default_attributes[0], #attribute to be displayed as the feature name\n",
    "                        feature_height: float = 0.15, #fraction of the annotation track height occupied by the features\n",
    "                       )->pd.DataFrame:\n",
    "    features=features.loc[(features[\"right\"] > left) & (features[\"left\"] < right)]\n",
    "    \n",
    "    if len(features)>0:\n",
    "        coordinates, colors, alphas = zip(*features.apply(get_patch_coordinates,glyphs_dict=glyphs_dict,feature_height=feature_height,axis=1))\n",
    "        xs, ys = zip(*coordinates)\n",
    "    else:\n",
    "        colors = []\n",
    "        xs, ys = [], []\n",
    "        \n",
    "    names=list(features.apply(get_feature_name,\n",
    "                         name=name,\n",
    "                         glyphs_dict=glyphs_dict,\n",
    "                         axis=1))\n",
    "        \n",
    "    out=dict(names=list(names),\n",
    "             xs=list(xs),\n",
    "             ys=list(ys),\n",
    "             color=list(colors),\n",
    "             alpha=list(alphas),\n",
    "             pos=list(features.middle.values),\n",
    "            )\n",
    "    for attr in attributes:\n",
    "        if attr in features.columns:\n",
    "            values=features[attr].fillna(\"\").astype(str)\n",
    "            out[attr]=values.to_list() #tried to split long strings here but Bokeh then ignores it \n",
    "            \n",
    "    return pd.DataFrame(out)"
   ]
  },
  {
   "cell_type": "code",
   "execution_count": null,
   "metadata": {},
   "outputs": [
    {
     "data": {
      "text/html": [
       "<div>\n",
       "<style scoped>\n",
       "    .dataframe tbody tr th:only-of-type {\n",
       "        vertical-align: middle;\n",
       "    }\n",
       "\n",
       "    .dataframe tbody tr th {\n",
       "        vertical-align: top;\n",
       "    }\n",
       "\n",
       "    .dataframe thead th {\n",
       "        text-align: right;\n",
       "    }\n",
       "</style>\n",
       "<table border=\"1\" class=\"dataframe\">\n",
       "  <thead>\n",
       "    <tr style=\"text-align: right;\">\n",
       "      <th></th>\n",
       "      <th>names</th>\n",
       "      <th>xs</th>\n",
       "      <th>ys</th>\n",
       "      <th>color</th>\n",
       "      <th>alpha</th>\n",
       "      <th>pos</th>\n",
       "      <th>gene</th>\n",
       "      <th>locus_tag</th>\n",
       "      <th>product</th>\n",
       "    </tr>\n",
       "  </thead>\n",
       "  <tbody>\n",
       "    <tr>\n",
       "      <th>0</th>\n",
       "      <td>talB</td>\n",
       "      <td>(8238, 8238, 9091, 9191, 9091)</td>\n",
       "      <td>(0.05, 0.2, 0.2, 0.125, 0.05)</td>\n",
       "      <td>purple</td>\n",
       "      <td>0.8</td>\n",
       "      <td>8714.5</td>\n",
       "      <td>talB</td>\n",
       "      <td>b0008</td>\n",
       "      <td>transaldolase B</td>\n",
       "    </tr>\n",
       "    <tr>\n",
       "      <th>1</th>\n",
       "      <td>mog</td>\n",
       "      <td>(9306, 9306, 9793, 9893, 9793)</td>\n",
       "      <td>(0.05, 0.2, 0.2, 0.125, 0.05)</td>\n",
       "      <td>purple</td>\n",
       "      <td>0.8</td>\n",
       "      <td>9599.5</td>\n",
       "      <td>mog</td>\n",
       "      <td>b0009</td>\n",
       "      <td>molybdopterin adenylyltransferase</td>\n",
       "    </tr>\n",
       "    <tr>\n",
       "      <th>2</th>\n",
       "      <td>satP</td>\n",
       "      <td>(10494, 10494, 10028, 9928, 10028)</td>\n",
       "      <td>(0.05, 0.2, 0.2, 0.125, 0.05)</td>\n",
       "      <td>orange</td>\n",
       "      <td>0.8</td>\n",
       "      <td>10211.0</td>\n",
       "      <td>satP</td>\n",
       "      <td>b0010</td>\n",
       "      <td>acetate/succinate:H(+) symporter</td>\n",
       "    </tr>\n",
       "    <tr>\n",
       "      <th>3</th>\n",
       "      <td>yaaW</td>\n",
       "      <td>(11356, 11356, 10743, 10643, 10743)</td>\n",
       "      <td>(0.05, 0.2, 0.2, 0.125, 0.05)</td>\n",
       "      <td>orange</td>\n",
       "      <td>0.8</td>\n",
       "      <td>10999.5</td>\n",
       "      <td>yaaW</td>\n",
       "      <td>b0011</td>\n",
       "      <td>putative enzyme-specific chaperone YaaW</td>\n",
       "    </tr>\n",
       "    <tr>\n",
       "      <th>4</th>\n",
       "      <td>mbiA</td>\n",
       "      <td>(10830, 10830, 11215, 11315, 11215)</td>\n",
       "      <td>(0.05, 0.2, 0.2, 0.125, 0.05)</td>\n",
       "      <td>purple</td>\n",
       "      <td>0.8</td>\n",
       "      <td>11072.5</td>\n",
       "      <td>mbiA</td>\n",
       "      <td>b0012</td>\n",
       "      <td>uncharacterized protein MbiA</td>\n",
       "    </tr>\n",
       "    <tr>\n",
       "      <th>5</th>\n",
       "      <td>yaaI</td>\n",
       "      <td>(11786, 11786, 11482, 11382, 11482)</td>\n",
       "      <td>(0.05, 0.2, 0.2, 0.125, 0.05)</td>\n",
       "      <td>orange</td>\n",
       "      <td>0.8</td>\n",
       "      <td>11584.0</td>\n",
       "      <td>yaaI</td>\n",
       "      <td>b0013</td>\n",
       "      <td>DUF2541 domain-containing protein YaaI</td>\n",
       "    </tr>\n",
       "  </tbody>\n",
       "</table>\n",
       "</div>"
      ],
      "text/plain": [
       "  names                                   xs                             ys   \n",
       "0  talB       (8238, 8238, 9091, 9191, 9091)  (0.05, 0.2, 0.2, 0.125, 0.05)  \\\n",
       "1   mog       (9306, 9306, 9793, 9893, 9793)  (0.05, 0.2, 0.2, 0.125, 0.05)   \n",
       "2  satP   (10494, 10494, 10028, 9928, 10028)  (0.05, 0.2, 0.2, 0.125, 0.05)   \n",
       "3  yaaW  (11356, 11356, 10743, 10643, 10743)  (0.05, 0.2, 0.2, 0.125, 0.05)   \n",
       "4  mbiA  (10830, 10830, 11215, 11315, 11215)  (0.05, 0.2, 0.2, 0.125, 0.05)   \n",
       "5  yaaI  (11786, 11786, 11482, 11382, 11482)  (0.05, 0.2, 0.2, 0.125, 0.05)   \n",
       "\n",
       "    color  alpha      pos  gene locus_tag   \n",
       "0  purple    0.8   8714.5  talB     b0008  \\\n",
       "1  purple    0.8   9599.5   mog     b0009   \n",
       "2  orange    0.8  10211.0  satP     b0010   \n",
       "3  orange    0.8  10999.5  yaaW     b0011   \n",
       "4  purple    0.8  11072.5  mbiA     b0012   \n",
       "5  orange    0.8  11584.0  yaaI     b0013   \n",
       "\n",
       "                                   product  \n",
       "0                          transaldolase B  \n",
       "1        molybdopterin adenylyltransferase  \n",
       "2         acetate/succinate:H(+) symporter  \n",
       "3  putative enzyme-specific chaperone YaaW  \n",
       "4             uncharacterized protein MbiA  \n",
       "5   DUF2541 domain-containing protein YaaI  "
      ]
     },
     "execution_count": null,
     "metadata": {},
     "output_type": "execute_result"
    }
   ],
   "source": [
    "get_feature_patches(features,8000,12000, glyphs_dict=default_glyphs, name=\"gene\")"
   ]
  },
  {
   "cell_type": "code",
   "execution_count": null,
   "metadata": {},
   "outputs": [],
   "source": [
    "#| export\n",
    "def create_genome_browser_plot(glyphSource, \n",
    "                               x_range, \n",
    "                               attributes=default_attributes, \n",
    "                               height = 150, \n",
    "                               label_angle = 45,\n",
    "                               label_font_size = \"10pt\",\n",
    "                               output_backend = \"webgl\",\n",
    "                               feature_height = 0.15,\n",
    "                               **kwargs):\n",
    "    \n",
    "\n",
    "    y_min, y_max = get_y_range()\n",
    "    p_annot = figure(\n",
    "        tools = \"xwheel_zoom, xpan, save, reset\",\n",
    "        active_scroll = \"xwheel_zoom\",\n",
    "        height = height,\n",
    "        x_range = x_range,\n",
    "        y_range = Range1d(y_min, y_max),\n",
    "        output_backend=output_backend,\n",
    "        **kwargs\n",
    "    )\n",
    "    # Add tool\n",
    "    p_annot.add_tools(BoxZoomTool(dimensions=\"width\"))\n",
    "\n",
    "    # Format x axis values\n",
    "    p_annot.xaxis[0].formatter = NumeralTickFormatter(format=\"0,0\")\n",
    "    # Hide grid\n",
    "    p_annot.xgrid.visible = False\n",
    "    p_annot.ygrid.visible = False\n",
    "    # Hide axis\n",
    "    p_annot.yaxis.visible = False\n",
    "    glyph = p_annot.add_glyph(\n",
    "        glyphSource, Patches(xs=\"xs\", ys=\"ys\", fill_color=\"color\", fill_alpha=\"alpha\")\n",
    "    )\n",
    "    # gene labels in the annotation track\n",
    "    # This seems to be necessary to show the labels\n",
    "    p_annot.scatter(x=\"pos\", y=0, size=0, source=glyphSource)\n",
    "    labels = LabelSet(\n",
    "        x=\"pos\",\n",
    "        y=feature_height+0.07,\n",
    "        text=\"names\",\n",
    "        level=\"glyph\",\n",
    "        angle=label_angle,\n",
    "        text_font_size=label_font_size,\n",
    "        x_offset=-5,\n",
    "        y_offset=0,\n",
    "        source=glyphSource,\n",
    "        text_align='left',\n",
    "    )\n",
    "\n",
    "    p_annot.add_layout(labels)\n",
    "    tooltips=[(attr,f\"@{attr}\") for attr in attributes]\n",
    "    p_annot.add_tools(\n",
    "        HoverTool(\n",
    "            renderers=[glyph],\n",
    "            tooltips=tooltips,\n",
    "        )\n",
    "    )\n",
    "    return p_annot"
   ]
  },
  {
   "cell_type": "code",
   "execution_count": null,
   "metadata": {},
   "outputs": [],
   "source": [
    "from bokeh.models import (\n",
    "    Range1d,\n",
    "    ColumnDataSource,\n",
    ")\n",
    "from bokeh.plotting import show"
   ]
  },
  {
   "cell_type": "code",
   "execution_count": null,
   "metadata": {},
   "outputs": [
    {
     "data": {
      "text/html": [
       "\n",
       "  <div id=\"e31cf4a0-76b5-45af-b068-50acba37b7f1\" data-root-id=\"p1354\" style=\"display: contents;\"></div>\n"
      ]
     },
     "metadata": {},
     "output_type": "display_data"
    },
    {
     "data": {
      "application/javascript": "(function(root) {\n  function embed_document(root) {\n  const docs_json = {\"c8692697-51a9-48da-b0ac-84dc0ac1d280\":{\"version\":\"3.1.1\",\"title\":\"Bokeh Application\",\"defs\":[],\"roots\":[{\"type\":\"object\",\"name\":\"Figure\",\"id\":\"p1354\",\"attributes\":{\"height\":200,\"x_range\":{\"type\":\"object\",\"name\":\"Range1d\",\"id\":\"p1349\",\"attributes\":{\"start\":20000,\"end\":40000,\"bounds\":[0,50000],\"min_interval\":40,\"max_interval\":100000}},\"y_range\":{\"type\":\"object\",\"name\":\"Range1d\",\"id\":\"p1353\"},\"x_scale\":{\"type\":\"object\",\"name\":\"LinearScale\",\"id\":\"p1365\"},\"y_scale\":{\"type\":\"object\",\"name\":\"LinearScale\",\"id\":\"p1367\"},\"title\":{\"type\":\"object\",\"name\":\"Title\",\"id\":\"p1362\"},\"renderers\":[{\"type\":\"object\",\"name\":\"GlyphRenderer\",\"id\":\"p1398\",\"attributes\":{\"data_source\":{\"type\":\"object\",\"name\":\"ColumnDataSource\",\"id\":\"p1350\",\"attributes\":{\"selected\":{\"type\":\"object\",\"name\":\"Selection\",\"id\":\"p1351\",\"attributes\":{\"indices\":[],\"line_indices\":[]}},\"selection_policy\":{\"type\":\"object\",\"name\":\"UnionRenderers\",\"id\":\"p1352\"},\"data\":{\"type\":\"map\",\"entries\":[[\"index\",{\"type\":\"ndarray\",\"array\":{\"type\":\"bytes\",\"data\":\"AAAAAAEAAAACAAAAAwAAAAQAAAAFAAAABgAAAAcAAAAIAAAACQAAAAoAAAALAAAADAAAAA0AAAAOAAAADwAAABAAAAARAAAAEgAAABMAAAAUAAAAFQAAABYAAAAXAAAA\"},\"shape\":[24],\"dtype\":\"int32\",\"order\":\"little\"}],[\"names\",{\"type\":\"ndarray\",\"array\":[\"insB-1\",\"insA-1\",\"rpsT\",\"yaaY\",\"ribF\",\"ileS\",\"lspA\",\"\",\"\",\"fkpB\",\"ispH\",\"rihC\",\"dapB\",\"carA\",\"carB\",\"caiF\",\"\",\"caiE\",\"caiD\",\"caiC\",\"caiB\",\"\",\"\",\"caiA\"],\"shape\":[24],\"dtype\":\"object\",\"order\":\"little\"}],[\"xs\",{\"type\":\"ndarray\",\"array\":[[20314,20314,19911,19811,19911],[20508,20508,20333,20233,20333],[21078,21078,20915,20815,20915],[21181,21181,21299,21399,21299],[21407,21407,22248,22348,22248],[22391,22391,25107,25207,25107],[25207,25207,25601,25701,25601],[25711,25711,25746,25746],[25763,25763,25796,25796],[25826,25826,26175,26275,26175],[26277,26277,27127,27227,27127],[27293,27293,28107,28207,28107],[28374,28374,29095,29195,29095],[29651,29651,30699,30799,30699],[30817,30817,33938,34038,33938],[34300,34300,34595,34695,34595],[34728,34728,34763,34763],[35371,35371,34881,34781,34881],[36162,36162,35477,35377,35477],[37824,37824,36371,36271,36371],[39115,39115,37998,37898,37998],[39152,39152,39185,39185],[39198,39198,39233,39233],[40386,40386,39344,39244,39344]],\"shape\":[24],\"dtype\":\"object\",\"order\":\"little\"}],[\"ys\",{\"type\":\"ndarray\",\"array\":[[0.05,0.2,0.2,0.125,0.05],[0.05,0.2,0.2,0.125,0.05],[0.05,0.2,0.2,0.125,0.05],[0.05,0.2,0.2,0.125,0.05],[0.05,0.2,0.2,0.125,0.05],[0.05,0.2,0.2,0.125,0.05],[0.05,0.2,0.2,0.125,0.05],[0.065,0.18500000000000003,0.18500000000000003,0.065],[0.065,0.18500000000000003,0.18500000000000003,0.065],[0.05,0.2,0.2,0.125,0.05],[0.05,0.2,0.2,0.125,0.05],[0.05,0.2,0.2,0.125,0.05],[0.05,0.2,0.2,0.125,0.05],[0.05,0.2,0.2,0.125,0.05],[0.05,0.2,0.2,0.125,0.05],[0.05,0.2,0.2,0.125,0.05],[0.065,0.18500000000000003,0.18500000000000003,0.065],[0.05,0.2,0.2,0.125,0.05],[0.05,0.2,0.2,0.125,0.05],[0.05,0.2,0.2,0.125,0.05],[0.05,0.2,0.2,0.125,0.05],[0.065,0.18500000000000003,0.18500000000000003,0.065],[0.065,0.18500000000000003,0.18500000000000003,0.065],[0.05,0.2,0.2,0.125,0.05]],\"shape\":[24],\"dtype\":\"object\",\"order\":\"little\"}],[\"color\",{\"type\":\"ndarray\",\"array\":[\"orange\",\"orange\",\"orange\",\"purple\",\"purple\",\"purple\",\"purple\",\"grey\",\"grey\",\"purple\",\"purple\",\"purple\",\"purple\",\"purple\",\"purple\",\"purple\",\"grey\",\"orange\",\"orange\",\"orange\",\"orange\",\"grey\",\"grey\",\"orange\"],\"shape\":[24],\"dtype\":\"object\",\"order\":\"little\"}],[\"alpha\",{\"type\":\"ndarray\",\"array\":{\"type\":\"bytes\",\"data\":\"mpmZmZmZ6T+amZmZmZnpP5qZmZmZmek/mpmZmZmZ6T+amZmZmZnpP5qZmZmZmek/mpmZmZmZ6T8AAAAAAADwPwAAAAAAAPA/mpmZmZmZ6T+amZmZmZnpP5qZmZmZmek/mpmZmZmZ6T+amZmZmZnpP5qZmZmZmek/mpmZmZmZ6T8AAAAAAADwP5qZmZmZmek/mpmZmZmZ6T+amZmZmZnpP5qZmZmZmek/AAAAAAAA8D8AAAAAAADwP5qZmZmZmek/\"},\"shape\":[24],\"dtype\":\"float64\",\"order\":\"little\"}],[\"pos\",{\"type\":\"ndarray\",\"array\":{\"type\":\"bytes\",\"data\":\"AAAAAKCX00AAAAAAoOTTQAAAAACgdNRAAAAAAIDK1EAAAAAAYF3VQAAAAADAPddAAAAAAIDb2EAAAAAAICDZQAAAAADgLNlAAAAAAKBw2UAAAAAAACDaQAAAAACAGdtAAAAAACAc3EAAAAAAQITdQAAAAADgqt9AAAAAADDY4EAAAAAAMPfgQAAAAACAIOFAAAAAADB34UAAAAAA8BbiQAAAAABQzeJAAAAAABAg40AAAAAA8CXjQAAAAADgcONA\"},\"shape\":[24],\"dtype\":\"float64\",\"order\":\"little\"}],[\"gene\",{\"type\":\"ndarray\",\"array\":[\"insB-1\",\"insA-1\",\"rpsT\",\"yaaY\",\"ribF\",\"ileS\",\"lspA\",\"\",\"\",\"fkpB\",\"ispH\",\"rihC\",\"dapB\",\"carA\",\"carB\",\"caiF\",\"\",\"caiE\",\"caiD\",\"caiC\",\"caiB\",\"\",\"\",\"caiA\"],\"shape\":[24],\"dtype\":\"object\",\"order\":\"little\"}],[\"locus_tag\",{\"type\":\"ndarray\",\"array\":[\"b0021\",\"b0022\",\"b0023\",\"b0024\",\"b0025\",\"b0026\",\"b0027\",\"\",\"\",\"b0028\",\"b0029\",\"b0030\",\"b0031\",\"b0032\",\"b0033\",\"b0034\",\"\",\"b0035\",\"b0036\",\"b0037\",\"b0038\",\"\",\"\",\"b0039\"],\"shape\":[24],\"dtype\":\"object\",\"order\":\"little\"}],[\"product\",{\"type\":\"ndarray\",\"array\":[\"IS1 protein InsB\",\"IS1 protein InsA\",\"30S ribosomal subunit protein S20\",\"DUF2575 domain-containing protein YaaY\",\"bifunctional riboflavin kinase/FMN adenylyltransferase\",\"isoleucine--tRNA ligase\",\"lipoprotein signal peptidase\",\"\",\"\",\"peptidyl-prolyl cis-trans isomerase FkpB\",\"1-hydroxy-2-methyl-2-(E)-butenyl 4-diphosphate reductase\",\"ribonucleoside hydrolase RihC\",\"4-hydroxy-tetrahydrodipicolinate reductase\",\"carbamoyl phosphate synthetase subunit alpha\",\"carbamoyl phosphate synthetase subunit beta\",\"DNA-binding transcriptional activator CaiF\",\"\",\"putative transferase CaiE\",\"crotonobetainyl-CoA hydratase\",\"carnitine-CoA ligase\",\"gamma-butyrobetainyl-CoA:carnitine CoA transferase\",\"\",\"\",\"crotonobetainyl-CoA reductase\"],\"shape\":[24],\"dtype\":\"object\",\"order\":\"little\"}]]}}},\"view\":{\"type\":\"object\",\"name\":\"CDSView\",\"id\":\"p1399\",\"attributes\":{\"filter\":{\"type\":\"object\",\"name\":\"AllIndices\",\"id\":\"p1400\"}}},\"glyph\":{\"type\":\"object\",\"name\":\"Patches\",\"id\":\"p1397\",\"attributes\":{\"xs\":{\"type\":\"field\",\"field\":\"xs\"},\"ys\":{\"type\":\"field\",\"field\":\"ys\"},\"fill_color\":{\"type\":\"field\",\"field\":\"color\"},\"fill_alpha\":{\"type\":\"field\",\"field\":\"alpha\"}}}}},{\"type\":\"object\",\"name\":\"GlyphRenderer\",\"id\":\"p1407\",\"attributes\":{\"data_source\":{\"id\":\"p1350\"},\"view\":{\"type\":\"object\",\"name\":\"CDSView\",\"id\":\"p1408\",\"attributes\":{\"filter\":{\"type\":\"object\",\"name\":\"AllIndices\",\"id\":\"p1409\"}}},\"glyph\":{\"type\":\"object\",\"name\":\"Scatter\",\"id\":\"p1404\",\"attributes\":{\"x\":{\"type\":\"field\",\"field\":\"pos\"},\"y\":{\"type\":\"value\",\"value\":0},\"size\":{\"type\":\"value\",\"value\":0},\"line_color\":{\"type\":\"value\",\"value\":\"#1f77b4\"},\"fill_color\":{\"type\":\"value\",\"value\":\"#1f77b4\"}}},\"nonselection_glyph\":{\"type\":\"object\",\"name\":\"Scatter\",\"id\":\"p1405\",\"attributes\":{\"x\":{\"type\":\"field\",\"field\":\"pos\"},\"y\":{\"type\":\"value\",\"value\":0},\"size\":{\"type\":\"value\",\"value\":0},\"line_color\":{\"type\":\"value\",\"value\":\"#1f77b4\"},\"line_alpha\":{\"type\":\"value\",\"value\":0.1},\"fill_color\":{\"type\":\"value\",\"value\":\"#1f77b4\"},\"fill_alpha\":{\"type\":\"value\",\"value\":0.1},\"hatch_alpha\":{\"type\":\"value\",\"value\":0.1}}},\"muted_glyph\":{\"type\":\"object\",\"name\":\"Scatter\",\"id\":\"p1406\",\"attributes\":{\"x\":{\"type\":\"field\",\"field\":\"pos\"},\"y\":{\"type\":\"value\",\"value\":0},\"size\":{\"type\":\"value\",\"value\":0},\"line_color\":{\"type\":\"value\",\"value\":\"#1f77b4\"},\"line_alpha\":{\"type\":\"value\",\"value\":0.2},\"fill_color\":{\"type\":\"value\",\"value\":\"#1f77b4\"},\"fill_alpha\":{\"type\":\"value\",\"value\":0.2},\"hatch_alpha\":{\"type\":\"value\",\"value\":0.2}}}}}],\"toolbar\":{\"type\":\"object\",\"name\":\"Toolbar\",\"id\":\"p1357\",\"attributes\":{\"tools\":[{\"type\":\"object\",\"name\":\"WheelZoomTool\",\"id\":\"p1383\",\"attributes\":{\"dimensions\":\"width\"}},{\"type\":\"object\",\"name\":\"PanTool\",\"id\":\"p1384\",\"attributes\":{\"dimensions\":\"width\"}},{\"type\":\"object\",\"name\":\"SaveTool\",\"id\":\"p1385\"},{\"type\":\"object\",\"name\":\"ResetTool\",\"id\":\"p1386\"},{\"type\":\"object\",\"name\":\"BoxZoomTool\",\"id\":\"p1392\",\"attributes\":{\"dimensions\":\"width\",\"overlay\":{\"type\":\"object\",\"name\":\"BoxAnnotation\",\"id\":\"p1393\",\"attributes\":{\"syncable\":false,\"level\":\"overlay\",\"visible\":false,\"left_units\":\"canvas\",\"right_units\":\"canvas\",\"bottom_units\":\"canvas\",\"top_units\":\"canvas\",\"line_color\":\"black\",\"line_alpha\":1.0,\"line_width\":2,\"line_dash\":[4,4],\"fill_color\":\"lightgrey\",\"fill_alpha\":0.5}}}},{\"type\":\"object\",\"name\":\"HoverTool\",\"id\":\"p1414\",\"attributes\":{\"renderers\":[{\"id\":\"p1398\"}],\"tooltips\":[[\"gene\",\"@gene\"],[\"locus_tag\",\"@locus_tag\"],[\"product\",\"@product\"]]}}],\"active_scroll\":{\"id\":\"p1383\"}}},\"left\":[{\"type\":\"object\",\"name\":\"LinearAxis\",\"id\":\"p1376\",\"attributes\":{\"visible\":false,\"ticker\":{\"type\":\"object\",\"name\":\"BasicTicker\",\"id\":\"p1379\",\"attributes\":{\"mantissas\":[1,2,5]}},\"formatter\":{\"type\":\"object\",\"name\":\"BasicTickFormatter\",\"id\":\"p1377\"},\"major_label_policy\":{\"type\":\"object\",\"name\":\"AllLabels\",\"id\":\"p1378\"}}}],\"below\":[{\"type\":\"object\",\"name\":\"LinearAxis\",\"id\":\"p1369\",\"attributes\":{\"ticker\":{\"type\":\"object\",\"name\":\"BasicTicker\",\"id\":\"p1372\",\"attributes\":{\"mantissas\":[1,2,5]}},\"formatter\":{\"type\":\"object\",\"name\":\"NumeralTickFormatter\",\"id\":\"p1395\"},\"major_label_policy\":{\"type\":\"object\",\"name\":\"AllLabels\",\"id\":\"p1371\"}}}],\"center\":[{\"type\":\"object\",\"name\":\"Grid\",\"id\":\"p1375\",\"attributes\":{\"visible\":false,\"axis\":{\"id\":\"p1369\"}}},{\"type\":\"object\",\"name\":\"Grid\",\"id\":\"p1382\",\"attributes\":{\"visible\":false,\"dimension\":1,\"axis\":{\"id\":\"p1376\"}}},{\"type\":\"object\",\"name\":\"LabelSet\",\"id\":\"p1410\",\"attributes\":{\"level\":\"glyph\",\"source\":{\"id\":\"p1350\"},\"x\":{\"type\":\"field\",\"field\":\"pos\"},\"y\":{\"type\":\"value\",\"value\":0.22},\"text\":{\"type\":\"field\",\"field\":\"names\"},\"angle\":{\"type\":\"value\",\"value\":45},\"x_offset\":{\"type\":\"value\",\"value\":-5},\"text_font_size\":{\"type\":\"value\",\"value\":\"10pt\"}}}],\"output_backend\":\"webgl\"}}],\"callbacks\":{\"type\":\"map\"}}};\n  const render_items = [{\"docid\":\"c8692697-51a9-48da-b0ac-84dc0ac1d280\",\"roots\":{\"p1354\":\"e31cf4a0-76b5-45af-b068-50acba37b7f1\"},\"root_ids\":[\"p1354\"]}];\n  root.Bokeh.embed.embed_items_notebook(docs_json, render_items);\n  }\n  if (root.Bokeh !== undefined) {\n    embed_document(root);\n  } else {\n    let attempts = 0;\n    const timer = setInterval(function(root) {\n      if (root.Bokeh !== undefined) {\n        clearInterval(timer);\n        embed_document(root);\n      } else {\n        attempts++;\n        if (attempts > 100) {\n          clearInterval(timer);\n          console.log(\"Bokeh: ERROR: Unable to run BokehJS code because BokehJS library is missing\");\n        }\n      }\n    }, 10, root)\n  }\n})(window);",
      "application/vnd.bokehjs_exec.v0+json": ""
     },
     "metadata": {
      "application/vnd.bokehjs_exec.v0+json": {
       "id": "p1354"
      }
     },
     "output_type": "display_data"
    }
   ],
   "source": [
    "features = parse_gff(gff_path,\n",
    "                     feature_types=default_types,\n",
    "                    )\n",
    "x_range = Range1d(\n",
    "            20000, 40000, \n",
    "            bounds=(0,50000), \n",
    "            max_interval=100000,\n",
    "            min_interval=40\n",
    "        )\n",
    "\n",
    "feature_patches = get_feature_patches(features, x_range.start, x_range.end, glyphs_dict=default_glyphs)\n",
    "glyph_source = ColumnDataSource(feature_patches)\n",
    "\n",
    "p = create_genome_browser_plot(glyph_source, x_range, height=200)\n",
    "show(p)"
   ]
  },
  {
   "cell_type": "code",
   "execution_count": null,
   "metadata": {},
   "outputs": [],
   "source": [
    "#| hide\n",
    "import nbdev; nbdev.nbdev_export()"
   ]
  }
 ],
 "metadata": {
  "kernelspec": {
   "display_name": "python3",
   "language": "python",
   "name": "python3"
  },
  "widgets": {
   "application/vnd.jupyter.widget-state+json": {
    "state": {},
    "version_major": 2,
    "version_minor": 0
   }
  }
 },
 "nbformat": 4,
 "nbformat_minor": 4
}
